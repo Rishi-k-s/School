{
 "cells": [
  {
   "cell_type": "code",
   "execution_count": 4,
   "metadata": {},
   "outputs": [
    {
     "name": "stdout",
     "output_type": "stream",
     "text": [
      "Circuit:\n",
      "(0, 0): ───X^0.5───M('m')───\n",
      "Results:\n",
      "m=01011010100000101111\n"
     ]
    }
   ],
   "source": [
    "import cirq\n",
    "# Pick a qubit.\n",
    "qubit = cirq.GridQubit(0, 0)\n",
    "\n",
    "# Create a circuit\n",
    "circuit = cirq.Circuit(\n",
    "    cirq.X(qubit)**0.5,  # Square root of NOT.\n",
    "    cirq.measure(qubit, key='m')  # Measurement.\n",
    ")\n",
    "print(\"Circuit:\")\n",
    "print(circuit)\n",
    "\n",
    "# Simulate the circuit several times.\n",
    "simulator = cirq.Simulator()\n",
    "result = simulator.run(circuit, repetitions=20)\n",
    "print(\"Results:\")\n",
    "print(result)"
   ]
  },
  {
   "cell_type": "code",
   "execution_count": 9,
   "metadata": {},
   "outputs": [],
   "source": [
    "f = open(\"D:\\School\\File Operations (CH2)\\school_Dat.txt\",\"w\")\n",
    "for i in range(10):\n",
    "     f.write(\"This is line %d\\r\\n\" % (i+1)) #QN: when giving %x, the last value saved in file becomes a ?\n",
    "f.close()"
   ]
  },
  {
   "cell_type": "code",
   "execution_count": 1,
   "metadata": {},
   "outputs": [
    {
     "data": {
      "text/plain": [
       "str"
      ]
     },
     "execution_count": 1,
     "metadata": {},
     "output_type": "execute_result"
    }
   ],
   "source": [
    "type('d')"
   ]
  },
  {
   "cell_type": "code",
   "execution_count": 3,
   "metadata": {},
   "outputs": [
    {
     "name": "stdout",
     "output_type": "stream",
     "text": [
      "-Goodbye-\n"
     ]
    }
   ],
   "source": [
    "import csv\n",
    "\n",
    "# file methords\n",
    "file_handlr = open(r\"D:\\School\\File Operations (CH2)\\userList.csv\",\"a+\",newline='\\n')\n",
    "writer_file = csv.writer(file_handlr,)\n",
    "reader_file = csv.reader(file_handlr)\n",
    "\n",
    "#boolians\n",
    "createUsersBool = True\n",
    "readUserBool = True\n",
    "\n",
    "#create user and add it to CSV file functions\n",
    "def createUserCSV (getNoOfUserToAdd):\n",
    "    userCounter=1\n",
    "    for each_user in range(getNoOfUserToAdd):\n",
    "        username_gettr = input(\"Name of user {}: \".format(userCounter))\n",
    "        password_check = True\n",
    "        while password_check:\n",
    "            password_gettr = input(\"what is your Password: \")\n",
    "            passwrd_confrm_gettr = input(\"re-enter your Password: \")\n",
    "            if(password_gettr == passwrd_confrm_gettr):\n",
    "                password_check =False\n",
    "            else:\n",
    "                print(\"**The passwords doesn't Match**\")\n",
    "        mailID_gettr = input(\"Enter your E-mail ID: \")\n",
    "        phone_gettr = input(\"what is your Phone no: \")\n",
    "        user_Details_List = [username_gettr,password_gettr,mailID_gettr,phone_gettr]\n",
    "        writer_file.writerow(user_Details_List)\n",
    "        userCounter +=1\n",
    "\n",
    "#reading user details from CSV file\n",
    "def searchUserCSV(userName,psswrd):\n",
    "    userNOtExists = False\n",
    "    userExists = False\n",
    "    for each_list in reader_file: \n",
    "        if (each_list[0] == userName and each_list[1] == psswrd):\n",
    "            print(\"********\\nUsername: {}\\nPassword: {}\\nMail ID: {}\\nPhonenumber: {}\\n********\".format(each_list[0],each_list[1],each_list[2],each_list[3]))\n",
    "            userExists = True\n",
    "        elif (each_list[0] == userName and each_list[1] != psswrd):\n",
    "            print(\"Wrong passwd\")\n",
    "            userExists =True\n",
    "        elif (each_list[0] != userName):\n",
    "            userNOtExists = True\n",
    "    if(userNOtExists == True and userExists == False):\n",
    "        print(\"The user: {} does not exists\".format(userName))\n",
    "\n",
    "#Starting menu\n",
    "get_createOrSearchUser = int(input(\"1 => Create user\\n2 => Search User\\n3 => Quit\\n=>\"))\n",
    "\n",
    "#menu functions\n",
    "if (get_createOrSearchUser == 1):\n",
    "    while createUsersBool == True: \n",
    "        getNoOfUsers = int(input(\"How many users u want to add: \"))\n",
    "        createUserCSV(getNoOfUsers)\n",
    "        try:\n",
    "            wantToAddMoreUserCheck = input(\"Want to add more users(y/n)?: \")\n",
    "            if(wantToAddMoreUserCheck == 'y'):\n",
    "                createUsersBool = True\n",
    "            elif(wantToAddMoreUserCheck == 'n'):\n",
    "                createUsersBool = False\n",
    "        except:\n",
    "            print(\"Try again :)\")  \n",
    "    print(\"-Goodbye-\")          \n",
    "elif (get_createOrSearchUser == 2):\n",
    "    while readUserBool == True:\n",
    "        get_userName = input(\"Enter the username you want to find: \")\n",
    "        get_psswrd = input(\"Enter the password you want to find: \")\n",
    "        searchUserCSV(get_userName,get_psswrd)\n",
    "        try:\n",
    "                wantToReadMoreUserCheck = input(\"Want to read more users(y/n)?: \")\n",
    "                if(wantToReadMoreUserCheck == 'y'):\n",
    "                    readUserBool = True\n",
    "                elif(wantToReadMoreUserCheck =='n'):\n",
    "                    readUserBool = False\n",
    "                else:\n",
    "                    readUserBool = False\n",
    "        except:\n",
    "                print(\"Try again :)\") \n",
    "    print(\"-Goodbye-\")\n",
    "elif(get_createOrSearchUser == 2):\n",
    "    print(\"-Goodbye-\")\n",
    "else:\n",
    "    print(\"Run the Code again\")\n",
    "\n",
    "file_handlr.close()"
   ]
  }
 ],
 "metadata": {
  "interpreter": {
   "hash": "60184ee43586f769cca6ddb476917823d9c64ae5bb78b682385544be5fe853ee"
  },
  "kernelspec": {
   "display_name": "Python 3.10.4 64-bit",
   "language": "python",
   "name": "python3"
  },
  "language_info": {
   "codemirror_mode": {
    "name": "ipython",
    "version": 3
   },
   "file_extension": ".py",
   "mimetype": "text/x-python",
   "name": "python",
   "nbconvert_exporter": "python",
   "pygments_lexer": "ipython3",
   "version": "3.10.4"
  },
  "orig_nbformat": 4
 },
 "nbformat": 4,
 "nbformat_minor": 2
}
